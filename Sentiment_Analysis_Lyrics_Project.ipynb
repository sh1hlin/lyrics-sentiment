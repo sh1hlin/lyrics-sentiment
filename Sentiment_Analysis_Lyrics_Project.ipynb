{
 "cells": [
  {
   "cell_type": "markdown",
   "id": "c6febe46",
   "metadata": {},
   "source": [
    "Sentiment Analysis on Song Lyrics\n",
    "An NLP project using machine learning to analyze the emotional content of song lyrics."
   ]
  },
  {
   "cell_type": "code",
   "execution_count": null,
   "id": "62710125",
   "metadata": {},
   "outputs": [],
   "source": [
    "import pandas as pd\n",
    "import numpy as np\n",
    "import matplotlib.pyplot as plt\n",
    "import seaborn as sns\n",
    "from sklearn.model_selection import train_test_split\n",
    "from sklearn.feature_extraction.text import CountVectorizer\n",
    "from sklearn.naive_bayes import MultinomialNB\n",
    "from sklearn.linear_model import LogisticRegression\n",
    "from sklearn.metrics import accuracy_score, classification_report, confusion_matrix"
   ]
  },
  {
   "cell_type": "code",
   "execution_count": null,
   "id": "6cbd2b5d",
   "metadata": {},
   "outputs": [],
   "source": [
    "data = {\n",
    "    'lyrics': [\n",
    "        \"I'm feeling good and everything's alright\",\n",
    "        \"Why does it rain all the time in my heart\",\n",
    "        \"I love the way you lie\",\n",
    "        \"Happiness is a warm gun\",\n",
    "        \"This pain is all I have now\",\n",
    "        \"You're beautiful, it's true\",\n",
    "        \"I wish I never met you\",\n",
    "        \"Tonight, we are young and wild and free\",\n",
    "        \"All around me are familiar faces, worn out places\",\n",
    "        \"You make me smile when skies are grey\"\n",
    "    ],\n",
    "    'sentiment': [\n",
    "        'positive', 'negative', 'negative', 'negative', 'negative',\n",
    "        'positive', 'negative', 'positive', 'negative', 'positive'\n",
    "    ]\n",
    "}\n",
    "df = pd.DataFrame(data)\n",
    "df"
   ]
  },
  {
   "cell_type": "code",
   "execution_count": null,
   "id": "55415719",
   "metadata": {},
   "outputs": [],
   "source": [
    "vectorizer = CountVectorizer(stop_words='english')\n",
    "X = vectorizer.fit_transform(df['lyrics'])\n",
    "y = df['sentiment']\n",
    "X_train, X_test, y_train, y_test = train_test_split(X, y, test_size=0.2, random_state=42)"
   ]
  },
  {
   "cell_type": "code",
   "execution_count": null,
   "id": "6d522d67",
   "metadata": {},
   "outputs": [],
   "source": [
    "nb_model = MultinomialNB()\n",
    "nb_model.fit(X_train, y_train)\n",
    "nb_preds = nb_model.predict(X_test)\n",
    "\n",
    "lr_model = LogisticRegression()\n",
    "lr_model.fit(X_train, y_train)\n",
    "lr_preds = lr_model.predict(X_test)"
   ]
  },
  {
   "cell_type": "code",
   "execution_count": null,
   "id": "88ac958d",
   "metadata": {},
   "outputs": [],
   "source": [
    "nb_acc = accuracy_score(y_test, nb_preds)\n",
    "lr_acc = accuracy_score(y_test, lr_preds)\n",
    "print(f\"Naive Bayes Accuracy: {nb_acc:.2f}\")\n",
    "print(f\"Logistic Regression Accuracy: {lr_acc:.2f}\")"
   ]
  },
  {
   "cell_type": "code",
   "execution_count": null,
   "id": "c681f7f5",
   "metadata": {},
   "outputs": [],
   "source": [
    "cm = confusion_matrix(y_test, lr_preds)\n",
    "sns.heatmap(cm, annot=True, fmt='d', cmap='Blues')\n",
    "plt.title('Confusion Matrix - Logistic Regression')\n",
    "plt.xlabel('Predicted')\n",
    "plt.ylabel('Actual')\n",
    "plt.show()"
   ]
  },
  {
   "cell_type": "code",
   "execution_count": null,
   "id": "58779c9e",
   "metadata": {},
   "outputs": [],
   "source": [
    "report = classification_report(y_test, lr_preds, output_dict=True)\n",
    "report_df = pd.DataFrame(report).transpose()\n",
    "report_df"
   ]
  }
 ],
 "metadata": {},
 "nbformat": 4,
 "nbformat_minor": 5
}
